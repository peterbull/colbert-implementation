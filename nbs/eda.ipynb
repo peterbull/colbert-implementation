{
 "cells": [
  {
   "cell_type": "code",
   "execution_count": null,
   "metadata": {},
   "outputs": [],
   "source": [
    "import wikipedia"
   ]
  },
  {
   "cell_type": "markdown",
   "metadata": {},
   "source": [
    "Get a wikipedia page to test IR"
   ]
  },
  {
   "cell_type": "code",
   "execution_count": null,
   "metadata": {},
   "outputs": [],
   "source": [
    "page = wikipedia.page(\"Cats\")"
   ]
  },
  {
   "cell_type": "code",
   "execution_count": null,
   "metadata": {},
   "outputs": [
    {
     "data": {
      "text/plain": [
       "'The cat (Felis catus), also referred to as domestic cat or house cat, is a small domesticated carnivorous mammal. It is the only domesticated species of the family Felidae. Advances in archaeology and genetics have shown that the domestication of the cat occurred in the Near East around 7500 BC. It is commonly kept as a house pet and farm cat, but also ranges freely as a feral cat avoiding human contact. Valued by humans for companionship and its ability to kill vermin, the cat\\'s retractable claws are adapted to killing small prey like mice and rats. It has a strong, flexible body, quick reflexes, and sharp teeth, and its night vision and sense of smell are well developed. It is a social species, but a solitary hunter and a crepuscular predator. Cat communication includes vocalizations—including meowing, purring, trilling, hissing, growling, and grunting–as well as body language. It can hear sounds too faint or too high in frequency for human ears, such as those made by small mammals. It secretes and perceives pheromones.\\nFemale domestic cats can have kittens from spring to late autumn in temperate zones and throughout the year in equatorial regions, with litter sizes often ranging from two to five kittens. Domestic cats are bred and shown at events as registered pedigreed cats, a hobby known as cat fancy. Animal population control of cats may be achieved by spaying and neutering, but their proliferation and the abandonment of pets has resulted in large numbers of feral cats worldwide, contributing to the extinction of bird, mammal, and reptile species.\\nAs of 2017, the domestic cat was the second most popular pet in the United States, with 95.6 million cats owned and around 42 million households owning at least one cat. In the United Kingdom, 26% of adults have a cat, with an estimated population of 10.9 million pet cats as of 2020. As of 2021, there were an estimated 220 million owned and 480 million stray cats in the world.\\n\\n\\n== Etymology and naming ==\\nThe origin of the English word cat, Old English catt, is thought to be the Late Latin word cattus, which was first used at the beginning of the 6th century. The Late Latin word may be derived from an unidentified African language. The Nubian word kaddîska \\'wildcat\\' and Nobiin kadīs are possible sources or cognates.\\nThe forms might also have derived from an ancient Germanic word that was absorbed into Latin and then into Greek, Syriac, and Arabic. The word may be derived from Germanic and Northern European languages, and ultimately be borrowed from Uralic, cf. Northern Sámi gáđfi, \\'female stoat\\', and Hungarian hölgy, \\'lady, female stoat\\'; from Proto-Uralic *käďwä, \\'female (of a furred animal)\\'.\\nThe English puss, extended as pussy and pussycat, is attested from the 16th century and may have been introduced from Dutch poes or from Low German puuskatte, related to Swedish kattepus, or Norwegian pus, pusekatt. Similar forms exist in Lithuanian puižė and Irish puisín or puiscín. The etymology of this word is unknown, but it may have arisen from a sound used to attract a cat.\\nA male cat is called a tom or tomcat (or a gib, if neutered). A female is called a queen (or sometimes a molly, if spayed). A juvenile cat is referred to as a kitten. In Early Modern English, the word kitten was interchangeable with the now-obsolete word catling. A group of cats can be referred to as a clowder, a glaring, or a colony.\\n\\n\\n== Taxonomy ==\\nThe scientific name Felis catus was proposed by Carl Linnaeus in 1758 for a domestic cat. Felis catus domesticus was proposed by Johann Christian Polycarp Erxleben in 1777. Felis daemon proposed by Konstantin Satunin in 1904 was a black cat from the Transcaucasus, later identified as a domestic cat.\\nIn 2003, the International Commission on Zoological Nomenclature ruled that the domestic cat is a distinct species, namely Felis catus. In 2007, the modern domesticated subspecies F. silvestris catus sampled worldwide was considered to have likely descended from the African wildcat (F. lybica), following results of phylogenetic research. In 2017, the IUCN Cat Classification Taskforce followed the recommendation of the ICZN in regarding the domestic cat as a distinct species, Felis catus.\\n\\n\\n== Evolution ==\\n\\nThe domestic cat is a member of the Felidae, a family that had a common ancestor about 10 to 15 million years ago. The evolutionary radiation of the Felidae began in Asia during the Miocene around 8.38 to 14.45 million years ago. Analysis of mitochondrial DNA of all Felidae species indicates a radiation at 6.46 to 16.76 million years ago. The genus Felis genetically diverged from other Felidae around 6 to 7 million years ago. Results of phylogenetic research shows that the wild members of this genus evolved through sympatric or parapatric speciation, whereas the domestic cat evolved through artificial selection. The domestic cat and its closest wild ancestor are diploid and both possess 38 chromosomes and roughly 20,000 genes.\\n\\n\\n=== Domestication ===\\n\\nIt was long thought that the domestication of the cat began in ancient Egypt, where cats were venerated from around 3100 BC. However, the earliest known indication for the taming of an African wildcat was excavated close by a human Neolithic grave in Shillourokambos, southern Cyprus, dating to about 7500–7200 BC. Since there is no evidence of native mammalian fauna on Cyprus, the inhabitants of this Neolithic village most likely brought the cat and other wild mammals to the island from the Middle Eastern mainland. Scientists therefore assume that African wildcats were attracted to early human settlements in the Fertile Crescent by rodents, in particular the house mouse (Mus musculus), and were tamed by Neolithic farmers. This mutual relationship between early farmers and tamed cats lasted thousands of years. As agricultural practices spread, so did tame and domesticated cats. Wildcats of Egypt contributed to the maternal gene pool of the domestic cat at a later time.\\nThe earliest known evidence for the occurrence of the domestic cat in Greece dates to around 1200 BC. Greek, Phoenician, Carthaginian and Etruscan traders introduced domestic cats to southern Europe. By the 5th century BC, they were familiar animals around settlements in Magna Graecia and Etruria. During the Roman Empire, they were introduced to Corsica and Sardinia before the beginning of the 1st century AD. By the end of the Western Roman Empire in the 5th century, the Egyptian domestic cat lineage had arrived in a Baltic Sea port in northern Germany.\\nThe leopard cat (Prionailurus bengalensis) was tamed independently in China around 5500 BC. This line of partially domesticated cats leaves no trace in the domestic cat populations of today.\\nDuring domestication, cats have undergone only minor changes in anatomy and behavior, and they are still capable of surviving in the wild. Several natural behaviors and characteristics of wildcats may have pre-adapted them for domestication as pets. These traits include their small size, social nature, obvious body language, love of play, and high intelligence. Since they practice rigorous grooming habits and have an instinctual drive to bury and hide their urine and feces, they are generally much less messy than other domesticated animals. Captive Leopardus cats may also display affectionate behavior toward humans but were not domesticated. House cats often mate with feral cats. Hybridization between domestic and other Felinae species is also possible, producing hybrids such as the Kellas cat in Scotland.\\nDevelopment of cat breeds started in the mid 19th century. An analysis of the domestic cat genome revealed that the ancestral wildcat genome was significantly altered in the process of domestication, as specific mutations were selected to develop cat breeds. Most breeds are founded on random-bred domestic cats. Genetic diversity of these breeds varies between regions, and is lowest in purebred populations, which show more than 20 deleterious genetic disorders.\\n\\n\\n== Characteristics ==\\n\\n\\n=== Size ===\\n\\nThe domestic cat has a smaller skull and shorter bones than the European wildcat. It averages about 46 cm (18 in) in head-to-body length and 23–25 cm (9.1–9.8 in) in height, with about 30 cm (12 in) long tails. Males are larger than females. Adult domestic cats typically weigh 4–5 kg (8.8–11.0 lb).\\n\\n\\n=== Skeleton ===\\nCats have seven cervical vertebrae (as do most mammals); 13 thoracic vertebrae (humans have 12); seven lumbar vertebrae (humans have five); three sacral vertebrae (as do most mammals, but humans have five); and a variable number of caudal vertebrae in the tail (humans have only three to five vestigial caudal vertebrae, fused into an internal coccyx).:\\u200a11\\u200a The extra lumbar and thoracic vertebrae account for the cat\\'s spinal mobility and flexibility. Attached to the spine are 13 ribs, the shoulder, and the pelvis.:\\u200a16\\u200a Unlike human arms, cat forelimbs are attached to the shoulder by free-floating clavicle bones which allow them to pass their body through any space into which they can fit their head.\\n\\n\\n=== Skull ===\\n\\nThe cat skull is unusual among mammals in having very large eye sockets and a powerful specialized jaw.:\\u200a35\\u200a Within the jaw, cats have teeth adapted for killing prey and tearing meat. When it overpowers its prey, a cat delivers a lethal neck bite with its two long canine teeth, inserting them between two of the prey\\'s vertebrae and severing its spinal cord, causing irreversible paralysis and death. Compared to other felines, domestic cats have narrowly spaced canine teeth relative to the size of their jaw, which is an adaptation to their preferred prey of small rodents, which have small vertebrae.\\nThe premolar and first molar together compose the carnassial pair on each side of the mouth, which efficiently shears meat into small pieces, like a pair of scissors. These are vital in feeding, since cats\\' small molars cannot chew food effectively, and cats are largely incapable of mastication.:\\u200a37\\u200a Cats tend to have better teeth than most humans, with decay generally less likely because of a thicker protective layer of enamel, a less damaging saliva, less retention of food particles between teeth, and a diet mostly devoid of sugar. Nonetheless, they are subject to occasional tooth loss and infection.\\n\\n\\n=== Claws ===\\n\\nCats have protractible and retractable claws. In their normal, relaxed position, the claws are sheathed with the skin and fur around the paw\\'s toe pads. This keeps the claws sharp by preventing wear from contact with the ground and allows for the silent stalking of prey. The claws on the forefeet are typically sharper than those on the hindfeet. Cats can voluntarily extend their claws on one or more paws. They may extend their claws in hunting or self-defense, climbing, kneading, or for extra traction on soft surfaces. Cats shed the outside layer of their claw sheaths when scratching rough surfaces.\\nMost cats have five claws on their front paws and four on their rear paws. The dewclaw is proximal to the other claws. More proximally is a protrusion which appears to be a sixth \"finger\". This special feature of the front paws on the inside of the wrists has no function in normal walking but is thought to be an antiskidding device used while jumping. Some cat breeds are prone to having extra digits (\"polydactyly\"). Polydactylous cats occur along North America\\'s northeast coast and in Great Britain.\\n\\n\\n=== Ambulation ===\\nThe cat is digitigrade. It walks on the toes, with the bones of the feet making up the lower part of the visible leg. Unlike most mammals, it uses a \"pacing\" gait and moves both legs on one side of the body before the legs on the other side. It registers directly by placing each hind paw close to the track of the corresponding fore paw, minimizing noise and visible tracks. This also provides sure footing for hind paws when navigating rough terrain. As it speeds up from walking to trotting, its gait changes to a \"diagonal\" gait: The diagonally opposite hind and fore legs move simultaneously.\\n\\n\\n=== Balance ===\\n\\nCats are generally fond of sitting in high places or perching. A higher place may serve as a concealed site from which to hunt; domestic cats strike prey by pouncing from a perch such as a tree branch. Another possible explanation is that height gives the cat a better observation point, allowing it to survey its territory. A cat falling from heights of up to 3 m (9.8 ft) can right itself and land on its paws.\\nDuring a fall from a high place, a cat reflexively twists its body and rights itself to land on its feet using its acute sense of balance and flexibility. This reflex is known as the cat righting reflex. A cat always rights itself in the same way during a fall, if it has enough time to do so, which is the case in falls of 90 cm (3.0 ft) or more. How cats are able to right themselves when falling has been investigated as the \"falling cat problem\".\\n\\n\\n=== Coats ===\\n\\nThe cat family (Felidae) can pass down many colors and patterns to their offspring. The domestic cat genes MC1R and ASIP allow color variety in their coats. The feline ASIP gene consists of three coding exons. Three novel microsatellite markers linked to ASIP were isolated from a domestic cat BAC clone containing this gene to perform linkage analysis on 89 domestic cats segregated for melanism. The domestic cat family demonstrated a cosegregation between the ASIP allele and coat black coloration.\\n\\n\\n== Senses ==\\n\\n\\n=== Vision ===\\n\\nCats have excellent night vision and can see at one sixth the light level required for human vision.:\\u200a43\\u200a This is partly the result of cat eyes having a tapetum lucidum, which reflects any light that passes through the retina back into the eye, thereby increasing the eye\\'s sensitivity to dim light. Large pupils are an adaptation to dim light. The domestic cat has slit pupils, which allow it to focus bright light without chromatic aberration. At low light, a cat\\'s pupils expand to cover most of the exposed surface of its eyes. The domestic cat has rather poor color vision and only two types of cone cells, optimized for sensitivity to blue and yellowish green; its ability to distinguish between red and green is limited. A response to middle wavelengths from a system other than the rod cells might be due to a third type of cone. This appears to be an adaptation to low light levels rather than representing true trichromatic vision. Cats also have a nictitating membrane, allowing them to blink without hindering their vision.\\n\\n\\n=== Hearing ===\\nThe domestic cat\\'s hearing is most acute in the range of 500 Hz to 32 kHz. It can detect an extremely broad range of frequencies ranging from 55 Hz to 79 kHz, whereas humans can only detect frequencies between 20 Hz and 20 kHz. It can hear a range of 10.5 octaves, while humans and dogs can hear ranges of about 9 octaves. Its hearing sensitivity is enhanced by its large movable outer ears, the pinnae, which amplify sounds and help detect the location of a noise. It can detect ultrasound, which enables it to detect ultrasonic calls made by rodent prey. Recent research has shown that cats have socio-spatial cognitive abilities to create mental maps of owners\\' locations based on hearing owners\\' voices.\\n\\n\\n=== Smell ===\\nCats have an acute sense of smell, due in part to their well-developed olfactory bulb and a large surface of olfactory mucosa, about 5.8 cm2 (0.90 in2) in area, which is about twice that of humans. Cats and many other animals have a Jacobson\\'s organ in their mouths that is used in the behavioral process of flehmening. It allows them to sense certain aromas in a way that humans cannot. Cats are sensitive to pheromones such as 3-mercapto-3-methylbutan-1-ol, which they use to communicate through urine spraying and marking with scent glands. Many cats also respond strongly to plants that contain nepetalactone, especially catnip, as they can detect that substance at less than one part per billion. About 70–80% of cats are affected by nepetalactone. This response is also produced by other plants, such as silver vine (Actinidia polygama) and the herb valerian; it may be caused by the smell of these plants mimicking a pheromone and stimulating cats\\' social or sexual behaviors.\\n\\n\\n=== Taste ===\\nCats have relatively few taste buds compared to humans (470 or so, compared to more than 9,000 on the human tongue). Domestic and wild cats share a taste receptor gene mutation that keeps their sweet taste buds from binding to sugary molecules, leaving them with no ability to taste sweetness. They, however, possess taste bud receptors specialized for acids, amino acids like protein, and bitter tastes.\\nTheir taste buds possess the receptors needed to detect umami. However, these receptors contain molecular changes that make cat taste umami different from that of humans. In humans, they detect the amino acids glutamic acid and aspartic acid, but in cats, they instead detect inosine monophosphate and l-Histidine. These molecules are particularly enriched in tuna. This, it has been argued, is why cats find tuna so palatable: as put by researchers into cat taste, \"the specific combination of the high IMP and free l-Histidine contents of tuna, which produces a strong umami taste synergy that is highly preferred by cats\". One of the researchers in this research has stated, \"I think umami is as important for cats as sweet is for humans\".\\nCats also have a distinct temperature preference for their food, preferring food with a temperature around 38 °C (100 °F) which is similar to that of a fresh kill; some cats reject cold food (which would signal to the cat that the \"prey\" item is long dead and therefore possibly toxic or decomposing).\\n\\n\\n=== Whiskers ===\\n\\nTo aid with navigation and sensation, cats have dozens of movable whiskers (vibrissae) over their body, especially their faces. These provide information on the width of gaps and on the location of objects in the dark, both by touching objects directly and by sensing air currents; they also trigger protective blink reflexes to protect the eyes from damage.:\\u200a47\\u200a\\n\\n\\n== Behavior ==\\n\\nOutdoor cats are active both day and night, although they tend to be slightly more active at night. Domestic cats spend the majority of their time in the vicinity of their homes but can range many hundreds of meters from this central point. They establish territories that vary considerably in size, in one study ranging 7–28 ha (17–69 acres). The timing of cats\\' activity is quite flexible and varied but being low-light predators, they are generally crepuscular, which means they tend to be more active near dawn and dusk. However, house cats\\' behavior is also influenced by human activity and they may adapt to their owners\\' sleeping patterns to some extent.\\nCats conserve energy by sleeping more than most animals, especially as they grow older. The daily duration of sleep varies, usually between 12 and 16 hours, with 13 and 14 being the average. Some cats can sleep as much as 20 hours. The term \"cat nap\" for a short rest refers to the cat\\'s tendency to fall asleep (lightly) for a brief period. While asleep, cats experience short periods of rapid eye movement sleep often accompanied by muscle twitches, which suggests they are dreaming.\\nA common misconception is that a cat\\'s behavioral and personality traits correspond to its coat color. These traits instead depend on a complex interplay between genetic and environmental factors.\\n\\n\\n=== Sociability ===\\n\\nThe social behavior of the domestic cat ranges from widely dispersed individuals to feral cat colonies that gather around a food source, based on groups of co-operating females. Within such groups, one cat is usually dominant over the others. Each cat in a colony holds a distinct territory, with sexually active males having the largest territories, which are about 10 times larger than those of female cats and may overlap with several females\\' territories. These territories are marked by urine spraying, rubbing objects at head height with secretions from facial glands, and by defecation. Between these territories are neutral areas where cats watch and greet one another without territorial conflicts. Outside these neutral areas, territory holders usually chase away stranger cats, at first by staring, hissing, and growling, and, if that does not work, by short and violent, noisy attacks. Though cats do not have a social survival strategy or herd behavior, they always hunt alone.\\nLife in proximity to humans and other domestic animals has led to a symbiotic social adaptation in cats, and cats may express great affection toward humans or other animals. Ethologically, a cat\\'s human keeper functions as a mother surrogate. Adult cats live their lives in a kind of extended kittenhood, a form of behavioral neoteny. Their high-pitched sounds may mimic the cries of a hungry human infant, making them particularly difficult for humans to ignore. Some pet cats are poorly socialized. In particular, older cats show aggressiveness toward newly arrived kittens, which include biting and scratching; this type of behavior is known as feline asocial aggression.\\nRedirected aggression is a common form of aggression which can occur in multiple cat households. In redirected aggression, there is usually something that agitates the cat: this could be a sight, sound, or another source of stimuli which causes a heightened level of anxiety or arousal. If the cat cannot attack the stimuli, it may direct anger elsewhere by attacking or directing aggression to the nearest cat, pet, human or other being.\\nDomestic cats\\' scent rubbing behavior toward humans or other cats is thought to be a feline means of social bonding.\\n\\n\\n=== Communication ===\\n\\nDomestic cats use many vocalizations for communication, including purring, trilling, hissing, growling/snarling, grunting, and several different forms of meowing. Their body language, including position of ears and tail, relaxation of the whole body, and kneading of the paws, are all indicators of mood. The tail and ears are particularly important social signal mechanisms; a raised tail indicates a friendly greeting, and flattened ears indicate hostility. Tail-raising also indicates the cat\\'s position in the group\\'s social hierarchy, with dominant individuals raising their tails less often than subordinate ones. Feral cats are generally silent.:\\u200a208\\u200a Nose-to-nose touching is also a common greeting and may be followed by social grooming, which is solicited by one of the cats raising and tilting its head.\\nPurring may have developed as an evolutionary advantage as a signaling mechanism of reassurance between mother cats and nursing kittens, who are thought to use it as a care-soliciting signal. Post-nursing cats also often purr as a sign of contentment: when being petted, becoming relaxed, or eating. Even though purring is popularly interpreted as indicative of pleasure, it has been recorded in a wide variety of circumstances, most of which involve physical contact between the cat and another, presumably trusted individual. Some cats have been observed to purr continuously when chronically ill or in apparent pain.\\nThe exact mechanism by which cats purr has long been elusive, but it has been proposed that purring is generated via a series of sudden build-ups and releases of pressure as the glottis is opened and closed, which causes the vocal folds to separate forcefully. The laryngeal muscles in control of the glottis are thought to be driven by a neural oscillator which generates a cycle of contraction and release every 30–40 milliseconds (giving a frequency of 33 to 25 Hz).\\nDomestic cats observed in rescue facilities have 276 morphologically distinct facial expressions based on 26 facial movements; each facial expression corresponds to different social functions that are likely influenced by domestication. Facial expressions have helped researchers detect pain in cats. The feline grimace scale\\'s five criteria ear position, orbital tightening, muzzle tension, whisker change, and head position indicated the presence of acute pain in cats.\\n\\n\\n=== Grooming ===\\n\\nCats are known for spending considerable amounts of time licking their coats to keep them clean. The cat\\'s tongue has backward-facing spines about 0.5 millimetre long, called lingual papillae, which contain keratin making them rigid. The papillae act like a hairbrush, and some cats, particularly long-haired cats, occasionally regurgitate sausage-shaped 2–3 cm (0.79–1.18 in) long hairballs of fur that have collected in their stomachs from grooming. Hairballs can be prevented with remedies that ease elimination of the hair through the gut, as well as regular grooming of the coat with a comb or stiff brush.\\n\\n\\n=== Fighting ===\\n\\nAmong domestic cats, males are more likely to fight than females. Among feral cats, the most common reason for cat fighting is competition between two males to mate with a female. In such cases, most fights are won by the heavier male. Another common reason for fighting in domestic cats is the difficulty of establishing territories within a small home. Female cats also fight over territory or to defend their kittens. Neutering will decrease or eliminate this behavior in many cases, suggesting that the behavior is linked to sex hormones.\\nWhen cats become aggressive, they try to make themselves appear larger and more threatening by raising their fur, arching their backs, turning sideways, and hissing or spitting. Often, the ears are pointed down and back to avoid damage to the inner ear and potentially listen for any changes behind them while focused forward. Cats may also vocalize loudly and bare their teeth in an effort to further intimidate their opponents. Fights usually consist of grappling and delivering slaps to the face and body with the forepaws, as well as bites. Cats also throw themselves to the ground in a defensive posture to rake their opponent\\'s belly with their hind legs.\\nSerious damage is rare, as the fights are usually short in duration, with the loser running away with little more than a few scratches to the face and ears. Fights for mating rights are typically more severe, and injuries may include deep puncture wounds and lacerations. Normally, serious injuries from fighting are limited to infections from scratches and bites, though these can occasionally kill cats if untreated. In addition, bites are probably the main route of transmission of the feline immunodeficiency virus. Sexually active males are usually involved in many fights during their lives and often have decidedly battered faces with obvious scars and cuts to their ears and nose. Cats are willing to threaten animals larger than them to defend their territory, such as dogs and foxes.\\n\\n\\n=== Hunting and feeding ===\\n\\nThe shape and structure of cats\\' cheeks is insufficient to allow them to take in liquids using suction. Therefore, when drinking, they lap with the tongue to draw liquid upward into their mouths. Lapping at a rate of four times a second, the cat touches the smooth tip of its tongue to the surface of the water, and quickly retracts it like a corkscrew, drawing water upward.\\nFeral cats and free-fed house cats consume several small meals in a day. The frequency and size of meals varies between individuals. They select food based on its temperature, smell, and texture; they dislike chilled foods and respond most strongly to moist foods rich in amino acids, which are similar to meat. Cats reject novel flavors (a response termed neophobia) and learn quickly to avoid foods that have tasted unpleasant in the past. It is also a common misconception that cats like milk/cream, as they tend to avoid sweet food and milk. Most adult cats are lactose intolerant; the sugar in milk is not easily digested and may cause soft stools or diarrhea. Some also develop odd eating habits and like to eat or chew on things like wool, plastic, cables, paper, string, aluminum foil, or even coal. This condition, pica, can threaten their health, depending on the amount and toxicity of the items eaten.\\nCats hunt small prey, primarily birds and rodents, and are often used as a form of pest control. Other common small creatures, such as lizards and snakes, may also become prey. Cats use two hunting strategies, either stalking prey actively, or waiting in ambush until an animal comes close enough to be captured. The strategy used depends on the prey species in the area, with cats waiting in ambush outside burrows, but tending to actively stalk birds.:\\u200a153\\u200a Domestic cats are a major predator of wildlife in the United States, killing an estimated 1.3 to 4.0 billion birds and 6.3 to 22.3 billion mammals annually.\\nCertain species appear more susceptible than others; in one English village, for example, 30% of house sparrow mortality was linked to the domestic cat. In the recovery of ringed robins (Erithacus rubecula) and dunnocks (Prunella modularis) in Britain, 31% of deaths were a result of cat predation. In parts of North America, the presence of larger carnivores such as coyotes, which prey on cats and other small predators, reduces the effect of predation by cats and other small predators such as opossums and raccoons on bird numbers and variety.\\nAnother poorly understood element of cat hunting behavior is the presentation of prey to human guardians. One explanation is that cats adopt humans into their social group and share excess kill with others in the group according to the dominance hierarchy, in which humans are reacted to as if they are at or near the top. Another explanation is that they attempt to teach their guardians to hunt or to help their human as if feeding \"an elderly cat, or an inept kitten\". This hypothesis is inconsistent with the fact that male cats also bring home prey, despite males having negligible involvement in raising kittens.:\\u200a153\\u200a\\n\\n\\n=== Play ===\\n\\nDomestic cats, especially young kittens, are known for their love of play. This behavior mimics hunting and is important in helping kittens learn to stalk, capture, and kill prey. Cats also engage in play fighting, both with each other and with humans. This behavior may be a way for cats to practice the skills needed for real combat, and it might also reduce the fear that they associate with launching attacks on other animals.\\nCats also tend to play with toys more when they are hungry. Owing to the close similarity between play and hunting, cats prefer to play with objects that resemble prey, such as small furry toys that move rapidly, but rapidly lose interest. They become habituated to a toy they have played with before. String is often used as a toy, but if it is eaten, it can become caught at the base of the cat\\'s tongue and then move into the intestines, a medical emergency which can cause serious illness, even death.\\n\\n\\n=== Reproduction ===\\n\\nThe cat secretes and perceives pheromones. Female cats, called queens, are polyestrous with several estrus cycles during a year, lasting usually 21 days. They are usually ready to mate between early February and August in northern temperate zones and throughout the year in equatorial regions.\\nSeveral males, called tomcats, are attracted to a female in heat. They fight over her, and the victor wins the right to mate. At first, the female rejects the male, but eventually, the female allows the male to mate. The female utters a loud yowl as the male pulls out of her because a male cat\\'s penis has a band of about 120–150 backward-pointing penile spines, which are about 1 mm (0.039 in) long; upon withdrawal of the penis, the spines may provide the female with increased sexual stimulation, which acts to induce ovulation.\\n\\nAfter mating, the female cleans her vulva thoroughly. If a male attempts to mate with her at this point, the female attacks him. After about 20 to 30 minutes, once the female is finished grooming, the cycle will repeat. Because ovulation is not always triggered by a single mating, females may not be impregnated by the first male with which they mate. Furthermore, cats are superfecund; that is, a female may mate with more than one male when she is in heat, with the result that different kittens in a litter may have different fathers.\\nThe morula forms 124 hours after conception. At 148 hours, early blastocysts form. At 10–12 days, implantation occurs. The gestation of queens lasts between 64 and 67 days, with an average of 65 days.\\n\\nBased on a study of 2,300 free-ranging queens conducted from May 1998 and October 2000, they had one to six kittens per litter, with an average of three kittens. They produced a mean of 1.4 litters per year, but a maximum of three litters in a year. Of 169 kittens, 127 died before they were six months old due to a trauma caused in most cases by dog attacks and road accidents. The first litter is usually smaller than subsequent litters. Kittens are weaned between six and seven weeks of age. Queens normally reach sexual maturity at 5–10 months, and males at 5–7 months. This varies depending on breed. Kittens reach puberty at the age of 9–10 months.\\nCats are ready to go to new homes at about 12 weeks of age, when they are ready to leave their mother. They can be surgically sterilized (spayed or castrated) as early as seven weeks to limit unwanted reproduction. This surgery also prevents undesirable sex-related behavior, such as aggression, territory marking (spraying urine) in males, and yowling (calling) in females. Traditionally, this surgery was performed at around six to nine months of age, but it is increasingly being performed before puberty, at about three to six months. In the United States, about 80% of household cats are neutered.\\n\\n\\n== Lifespan and health ==\\n\\nThe average lifespan of pet cats has risen in recent decades. In the early 1980s, it was about seven years,:\\u200a33\\u200a rising to 9.4 years in 1995:\\u200a33\\u200a and an average of about 13 years as of 2014 and 2023.\\nNeutering increases life expectancy; one study found castrated male cats live twice as long as intact males, while spayed female cats live 62% longer than intact females.:\\u200a35\\u200a Having a cat neutered confers some health benefits, such as a greater life expectancy and a decreased incidence of reproductive neoplasia. However, neutering decreases metabolism and increases food intake, both of which can cause obesity in neutered cats. Pre-pubertal neutering (neutering at 4 months or earlier) was only recommended by 28% of American veterinarians in one study. Some concerns of early neutering were metabolic, retarded physeal closure, and urinary tract disease related.\\n\\n\\n=== Disease ===\\n\\nAbout 250 heritable genetic disorders have been identified in cats; many are similar to human inborn errors of metabolism. The high level of similarity among the metabolism of mammals allows many of these feline diseases to be diagnosed using genetic tests that were originally developed for use in humans, as well as the use of cats as animal models in the study of the human diseases. Diseases affecting domestic cats include acute infections, parasitic infestations, injuries, and chronic diseases such as kidney disease, thyroid disease, and arthritis. Vaccinations are available for many infectious diseases, as are treatments to eliminate parasites such as worms, ticks, and fleas.\\n\\n\\n== Ecology ==\\n\\n\\n=== Habitats ===\\n\\nThe domestic cat is a cosmopolitan species and occurs across much of the world. It is adaptable and now present on all continents except Antarctica, and on 118 of the 131 main groups of islands, even on the isolated Kerguelen Islands. Due to its ability to thrive in almost any terrestrial habitat, it is among the world\\'s most invasive species. It lives on small islands with no human inhabitants. Feral cats can live in forests, grasslands, tundra, coastal areas, agricultural land, scrublands, urban areas, and wetlands.\\nThe unwantedness that leads to the domestic cat being treated as an invasive species is twofold. As it is little altered from the wildcat, it can readily interbreed with the wildcat. This hybridization poses a danger to the genetic distinctiveness of some wildcat populations, particularly in Scotland and Hungary, possibly also the Iberian Peninsula, and where protected natural areas are close to human-dominated landscapes, such as Kruger National Park in South Africa. However, its introduction to places where no native felines are present also contributes to the decline of native species.\\n\\n\\n=== Ferality ===\\n\\nFeral cats are domestic cats that were born in or have reverted to a wild state. They are unfamiliar with and wary of humans and roam freely in urban and rural areas. The numbers of feral cats is not known, but estimates of the United States feral population range from 25 to 60 million. Feral cats may live alone, but most are found in large colonies, which occupy a specific territory and are usually associated with a source of food. Famous feral cat colonies are found in Rome around the Colosseum and Forum Romanum, with cats at some of these sites being fed and given medical attention by volunteers.\\nPublic attitudes toward feral cats vary widely, from seeing them as free-ranging pets to regarding them as vermin.\\n\\n\\n=== Impact on wildlife ===\\n\\nOn islands, birds can contribute as much as 60% of a cat\\'s diet. In nearly all cases, the cat cannot be identified as the sole cause for reducing the numbers of island birds, and in some instances, eradication of cats has caused a \"mesopredator release\" effect; where the suppression of top carnivores creates an abundance of smaller predators that cause a severe decline in their shared prey. Domestic cats are a contributing factor to the decline of many species, a factor that has ultimately led, in some cases, to extinction. The South Island piopio, Chatham rail, and the New Zealand merganser are a few from a long list, with the most extreme case being the flightless Lyall\\'s wren, which was driven to extinction only a few years after its discovery. One feral cat in New Zealand killed 102 New Zealand lesser short-tailed bats in seven days. In the United States, feral and free-ranging domestic cats kill an estimated 6.3–22.3 billion mammals annually.\\nIn Australia, one study found feral cats to kill 466 million reptiles per year. More than 258 reptile species were identified as being predated by cats. Cats have contributed to the extinction of the Navassa curly-tailed lizard and Chioninia coctei.\\n\\n\\n== Interaction with humans ==\\n\\nCats are common pets throughout the world, and their worldwide population as of 2007 exceeded 500 million. As of 2017, the domestic cat was the second most popular pet in the United States, with 95.6 million cats owned and around 42 million households owning at least one cat. In the United Kingdom, 26% of adults have a cat, with an estimated population of 10.9 million pet cats as of 2020. As of 2021, there were an estimated 220 million owned and 480 million stray cats in the world.\\nCats have been used for millennia to control rodents, notably around grain stores and aboard ships, and both uses extend to the present day. Cats are also used in the international fur trade and leather industries for making coats, hats, blankets, stuffed toys, shoes, gloves, and musical instruments. About 24 cats are needed to make a cat-fur coat. This use has been outlawed in the United States since 2000 and in the European Union (as well as the United Kingdom) since 2007.\\nCat pelts have been used for superstitious purposes as part of the practice of witchcraft, and they are still made into blankets in Switzerland as traditional medicines thought to cure rheumatism.\\n\\nA few attempts to build a cat census have been made over the years, both through associations or national and international organizations (such as that of the Canadian Federation of Humane Societies) and over the Internet. General estimates for the global population of domestic cats range widely from anywhere between 200 million to 600 million. Walter Chandoha made his career photographing cats after his 1949 images of Loco, a stray cat, were published. He is reported to have photographed 90,000 cats during his career and maintained an archive of 225,000 images that he drew from for publications during his lifetime.\\nPet humanization is a form of anthropomorphism in which cats are kept for companionship and treated more like human family members than traditional pets. This trend of pet culture involves providing cats with a higher level of care, attention and often even luxury, similar to the way humans are treated.\\n\\n\\n=== Shows ===\\n\\nA cat show is a judged event in which the owners of cats compete to win titles in various cat-registering organizations by entering their cats to be judged after a breed standard. It is often required that a cat must be healthy and vaccinated in order to participate in a cat show. Both pedigreed and non-purebred companion (\"moggy\") cats are admissible, although the rules differ depending on the organization. Competing cats are compared to the applicable breed standard, and assessed for temperament.\\n\\n\\n=== Infection ===\\n\\nCats can be infected or infested with viruses, bacteria, fungus, protozoans, arthropods or worms that can transmit diseases to humans. In some cases, the cat exhibits no symptoms of the disease. The same disease can then become evident in a human. The likelihood that a person will become diseased depends on the age and immune status of the person. Humans who have cats living in their home or in close association are more likely to become infected. Others might also acquire infections from cat feces and parasites exiting the cat\\'s body. Some of the infections of most concern include salmonella, cat-scratch disease, and toxoplasmosis.\\n\\n\\n=== History and mythology ===\\n\\nIn ancient Egypt, cats were revered, and the goddess Bastet often depicted in cat form, sometimes taking on the war-like aspect of a lioness. The Greek historian Herodotus reported that killing a cat was forbidden, and when a household cat died, the entire family mourned and shaved their eyebrows. Families took their dead cats to the sacred city of Bubastis, where they were embalmed and buried in sacred repositories. Herodotus expressed astonishment at the domestic cats in Egypt, because he had only ever seen wildcats.\\nAncient Greeks and Romans kept weasels as pets, which were seen as the ideal rodent-killers. The earliest unmistakable evidence of the Greeks having domestic cats comes from two coins from Magna Graecia dating to the mid-fifth century BC showing Iokastos and Phalanthos, the legendary founders of Rhegion and Taras respectively, playing with their pet cats. The usual ancient Greek word for \\'cat\\' was ailouros, meaning \\'thing with the waving tail\\'. Cats are rarely mentioned in ancient Greek literature. Aristotle remarked in his History of Animals that \"female cats are naturally lecherous.\" The Greeks later syncretized their own goddess Artemis with the Egyptian goddess Bastet, adopting Bastet\\'s associations with cats and ascribing them to Artemis. In Ovid\\'s Metamorphoses, when the deities flee to Egypt and take animal forms, the goddess Diana turns into a cat.\\nCats eventually displaced weasels as the pest control of choice because they were more pleasant to have around the house and were more enthusiastic hunters of mice. During the Middle Ages, many of Artemis\\'s associations with cats were grafted onto the Virgin Mary. Cats are often shown in icons of Annunciation and of the Holy Family and, according to Italian folklore, on the same night that Mary gave birth to Jesus, a cat in Bethlehem gave birth to a kitten. Domestic cats were spread throughout much of the rest of the world during the Age of Discovery, as ships\\' cats were carried on sailing ships to control shipboard rodents and as good-luck charms.\\nSeveral ancient religions believed cats are exalted souls, companions or guides for humans, that are all-knowing but mute so they cannot influence decisions made by humans. In Japan, the maneki neko cat is a symbol of good fortune. In Norse mythology, Freyja, the goddess of love, beauty, and fertility, is depicted as riding a chariot drawn by cats. In Jewish legend, the first cat was living in the house of the first man Adam as a pet that got rid of mice. The cat was once partnering with the first dog before the latter broke an oath they had made which resulted in enmity between the descendants of these two animals. It is also written that neither cats nor foxes are represented in the water, while every other animal has an incarnation species in the water. Although no species are sacred in Islam, cats are revered by Muslims. Some Western writers have stated Muhammad had a favorite cat, Muezza. He is reported to have loved cats so much, \"he would do without his cloak rather than disturb one that was sleeping on it\". The story has no origin in early Muslim writers, and seems to confuse a story of a later Sufi saint, Ahmed ar-Rifa\\'i, centuries after Muhammad. One of the companions of Muhammad was known as Abu Hurayrah (\"father of the kitten\"), in reference to his documented affection to cats.\\n\\n\\n=== Superstitions and rituals ===\\nMany cultures have negative superstitions about cats. An example would be the belief that encountering a black cat (\"crossing one\\'s path\") leads to bad luck, or that cats are witches\\' familiars used to augment a witch\\'s powers and skills. The killing of cats in Medieval Ypres, Belgium, is commemorated in the innocuous present-day Kattenstoet (cat parade). In mid-16th century France, cats would allegedly be burnt alive as a form of entertainment, particularly during midsummer festivals. According to Norman Davies, the assembled people \"shrieked with laughter as the animals, howling with pain, were singed, roasted, and finally carbonized\". The remaining ashes were sometimes taken back home by the people for good luck.\\nAccording to a myth in many cultures, cats have multiple lives. In many countries, they are believed to have nine lives, but in Italy, Germany, Greece, Brazil and some Spanish-speaking regions, they are said to have seven lives, while in Arabic traditions, the number of lives is six. An early mention of the myth can be found in John Heywood\\'s The Proverbs of John Heywood (1546):\\n\\nThe myth is attributed to the natural suppleness and swiftness cats exhibit to escape life-threatening situations. Also lending credence to this myth is the fact that falling cats often land on their feet, using an instinctive righting reflex to twist their bodies around. Nonetheless, cats can still be injured or killed by a high fall.\\n\\n\\n== See also ==\\n\\n\\n== Notes ==\\n\\n\\n== References ==\\n\\n\\n== External links ==\\n\\n The dictionary definition of cat at Wiktionary\\n Data related to Felis catus at Wikispecies\\n Media related to Felis silvestris catus at Wikimedia Commons\\n Animal Care at Wikibooks\\n Quotations related to Cat at Wikiquote\\n\"Cat, Domestic, The\" . Encyclopedia Americana. 1920.\\nBiodiversity Heritage Library bibliography for Felis catus\\nView the cat genome in Ensembl\\nHigh-resolution images of the cat\\'s brain\\nScientific American. \"The Origin of the Cat\". 1881. p. 120.'"
      ]
     },
     "execution_count": null,
     "metadata": {},
     "output_type": "execute_result"
    }
   ],
   "source": [
    "page.content"
   ]
  },
  {
   "cell_type": "markdown",
   "metadata": {},
   "source": [
    "***"
   ]
  },
  {
   "cell_type": "code",
   "execution_count": null,
   "metadata": {},
   "outputs": [],
   "source": [
    "from transformers import BertTokenizer, BertModel\n",
    "import torch\n",
    "import tsensor as ts\n",
    "import logging\n",
    "import matplotlib.pyplot as plt\n"
   ]
  },
  {
   "cell_type": "code",
   "execution_count": null,
   "metadata": {},
   "outputs": [],
   "source": [
    "logging.getLogger('matplotlib.font_manager').disabled = True"
   ]
  },
  {
   "cell_type": "code",
   "execution_count": null,
   "metadata": {},
   "outputs": [],
   "source": [
    "plt.rcParams['figure.figsize'] = (15, 9)  # Width: 15 inches, Height: 9 inches"
   ]
  },
  {
   "cell_type": "code",
   "execution_count": null,
   "metadata": {},
   "outputs": [
    {
     "data": {
      "text/plain": [
       "<module 'tsensor' from '/Users/peterbull/miniforge3/envs/colbert-implementations/lib/python3.12/site-packages/tsensor/__init__.py'>"
      ]
     },
     "execution_count": null,
     "metadata": {},
     "output_type": "execute_result"
    }
   ],
   "source": [
    "ts"
   ]
  },
  {
   "cell_type": "code",
   "execution_count": null,
   "metadata": {},
   "outputs": [],
   "source": [
    "tokenizer = BertTokenizer.from_pretrained(\"bert-base-uncased\")\n",
    "model = BertModel.from_pretrained(\"bert-base-uncased\")"
   ]
  },
  {
   "cell_type": "code",
   "execution_count": null,
   "metadata": {},
   "outputs": [],
   "source": [
    "query = \"Tell me about cats\""
   ]
  },
  {
   "cell_type": "code",
   "execution_count": null,
   "metadata": {},
   "outputs": [],
   "source": [
    "inputs = tokenizer(query, return_tensors='pt', padding=True, truncation=True, max_length=512)"
   ]
  },
  {
   "cell_type": "code",
   "execution_count": null,
   "metadata": {},
   "outputs": [
    {
     "data": {
      "text/plain": [
       "{'input_ids': tensor([[ 101, 2425, 2033, 2055, 8870,  102]]), 'token_type_ids': tensor([[0, 0, 0, 0, 0, 0]]), 'attention_mask': tensor([[1, 1, 1, 1, 1, 1]])}"
      ]
     },
     "execution_count": null,
     "metadata": {},
     "output_type": "execute_result"
    }
   ],
   "source": [
    "inputs"
   ]
  },
  {
   "cell_type": "code",
   "execution_count": null,
   "metadata": {},
   "outputs": [],
   "source": [
    "with torch.no_grad():\n",
    "    outputs = model(**inputs)"
   ]
  },
  {
   "cell_type": "code",
   "execution_count": null,
   "metadata": {},
   "outputs": [
    {
     "data": {
      "text/plain": [
       "BaseModelOutputWithPoolingAndCrossAttentions(last_hidden_state=tensor([[[ 8.9206e-02,  1.3633e-01, -1.4991e-01,  ..., -1.4276e-01,\n",
       "           5.2571e-02,  2.6263e-01],\n",
       "         [ 7.8736e-01,  5.1593e-02, -1.0610e-01,  ...,  1.8474e-01,\n",
       "           4.8132e-01, -3.8749e-02],\n",
       "         [-5.9140e-04, -7.1789e-01,  9.7731e-03,  ...,  1.1675e-01,\n",
       "          -2.2815e-01,  4.9798e-01],\n",
       "         [ 6.1189e-01, -9.1199e-02, -1.2122e-01,  ..., -2.4631e-01,\n",
       "          -2.6575e-01, -1.8711e-01],\n",
       "         [-2.3867e-01,  4.8732e-03, -6.0544e-01,  ...,  1.1373e-01,\n",
       "           2.9739e-01,  2.2494e-01],\n",
       "         [ 9.9134e-01,  1.7768e-01, -2.2830e-01,  ...,  1.7759e-01,\n",
       "          -7.0809e-01, -3.3204e-01]]]), pooler_output=tensor([[-0.7958, -0.1469,  0.6684,  0.5032, -0.4109, -0.0544,  0.7878,  0.1844,\n",
       "          0.5275, -0.9994,  0.1964, -0.0578,  0.9735, -0.4454,  0.8977, -0.4377,\n",
       "          0.1174, -0.4842,  0.2655, -0.6055,  0.4931,  0.5978,  0.6274,  0.2351,\n",
       "          0.3096, -0.0425, -0.4755,  0.9024,  0.9249,  0.6408, -0.5652,  0.1110,\n",
       "         -0.9785, -0.1170,  0.6491, -0.9765,  0.1284, -0.6818,  0.0279,  0.1161,\n",
       "         -0.8486,  0.2090,  0.9904, -0.4055, -0.1025, -0.2469, -0.9982,  0.1178,\n",
       "         -0.8104, -0.6312, -0.4192, -0.7390,  0.0625,  0.2609,  0.2731,  0.4681,\n",
       "         -0.2391,  0.0676, -0.1165, -0.4299, -0.5414,  0.1844,  0.2898, -0.8401,\n",
       "         -0.4819, -0.7065, -0.0498, -0.2022,  0.0139, -0.0851,  0.7473,  0.1375,\n",
       "          0.4604, -0.8036, -0.6421,  0.0989, -0.3875,  0.9999, -0.1579, -0.9670,\n",
       "         -0.5517, -0.4950,  0.3338,  0.7252, -0.6074, -0.9997,  0.1488, -0.0105,\n",
       "         -0.9815,  0.1631,  0.2168, -0.0961, -0.7338,  0.3183, -0.0942, -0.1617,\n",
       "         -0.1043,  0.5001,  0.0193,  0.0918, -0.0970, -0.0735,  0.0626, -0.1912,\n",
       "          0.0839, -0.2682, -0.3318, -0.2218, -0.2620,  0.5160,  0.2570, -0.2072,\n",
       "          0.1952, -0.9331,  0.5185, -0.1597, -0.9706, -0.3795, -0.9792,  0.5580,\n",
       "          0.0938, -0.0874,  0.9372,  0.7112,  0.1982,  0.0684,  0.6622, -1.0000,\n",
       "         -0.1685, -0.0516,  0.4151, -0.0410, -0.9575, -0.9273,  0.4422,  0.9273,\n",
       "          0.0530,  0.9867, -0.0997,  0.8978,  0.4193,  0.0870, -0.4953, -0.3352,\n",
       "          0.2073,  0.2328, -0.4876,  0.1646,  0.2845, -0.1993,  0.1901, -0.1786,\n",
       "          0.5010, -0.9171, -0.2937,  0.9064,  0.3197,  0.6855,  0.7433, -0.0990,\n",
       "         -0.2612,  0.7485,  0.1525,  0.2315, -0.0359,  0.2177, -0.3436,  0.4091,\n",
       "         -0.7550,  0.3150,  0.2828, -0.0900,  0.6002, -0.9638, -0.1790,  0.3651,\n",
       "          0.9785,  0.6131,  0.1160, -0.2858, -0.1309,  0.1339, -0.9051,  0.9614,\n",
       "         -0.0475,  0.1881,  0.6424, -0.4364, -0.7845, -0.4533,  0.6714,  0.0476,\n",
       "         -0.7830,  0.1363, -0.3745, -0.2952,  0.3542,  0.2179, -0.2088, -0.3263,\n",
       "          0.0699,  0.8902,  0.9079,  0.6616, -0.6931,  0.4183, -0.8501, -0.3209,\n",
       "          0.0596,  0.1822, -0.0046,  0.9871,  0.0773, -0.0320, -0.8757, -0.9724,\n",
       "         -0.0395, -0.8343,  0.0428, -0.4588,  0.1657,  0.6508, -0.3360,  0.3161,\n",
       "         -0.9436, -0.7342,  0.2224, -0.1315,  0.2595, -0.1944,  0.5724, -0.5104,\n",
       "         -0.3465,  0.6457,  0.8429,  0.7269, -0.6361,  0.7300, -0.1384,  0.7551,\n",
       "         -0.4518,  0.9423, -0.3864,  0.3038, -0.8916,  0.6163, -0.7708,  0.4305,\n",
       "         -0.0533, -0.7444, -0.4812,  0.3555,  0.2257,  0.8244, -0.3134,  0.9803,\n",
       "         -0.6402, -0.9337,  0.1585,  0.1112, -0.9764, -0.3249,  0.1875, -0.5846,\n",
       "         -0.2626, -0.2007, -0.9280,  0.7351,  0.0736,  0.9488,  0.1525, -0.8330,\n",
       "         -0.0790, -0.8653, -0.2117,  0.0039,  0.7125, -0.2020, -0.9353,  0.3932,\n",
       "          0.4482,  0.2582,  0.7743,  0.9844,  0.9840,  0.9617,  0.8529,  0.7516,\n",
       "         -0.4232,  0.1109,  0.9997, -0.0353, -0.9991, -0.9110, -0.4253,  0.3036,\n",
       "         -1.0000, -0.0532,  0.0696, -0.8780, -0.5346,  0.9640,  0.9607, -0.9999,\n",
       "          0.7818,  0.9024, -0.4047, -0.1264, -0.0335,  0.9614,  0.1206,  0.4183,\n",
       "         -0.0500,  0.2175,  0.3299, -0.7326,  0.6139,  0.5705, -0.2135,  0.0551,\n",
       "         -0.4947, -0.8857, -0.2029, -0.1008, -0.3743, -0.9387, -0.1193, -0.4367,\n",
       "          0.4659, -0.0330,  0.0546, -0.6763,  0.1233, -0.7649,  0.2972,  0.4833,\n",
       "         -0.9019, -0.4232, -0.0449, -0.6015,  0.4953, -0.9261,  0.9465, -0.1530,\n",
       "         -0.4359,  0.9999, -0.3605, -0.8062,  0.2010,  0.0185, -0.0866,  0.9998,\n",
       "          0.2146, -0.9640, -0.3287,  0.0165, -0.2508, -0.2394,  0.9944, -0.0940,\n",
       "          0.5744,  0.5006,  0.9570, -0.9819, -0.3441, -0.8451, -0.9479,  0.9447,\n",
       "          0.9048, -0.0063, -0.4589, -0.0917,  0.3608,  0.1271, -0.9188,  0.4378,\n",
       "          0.3825, -0.0917,  0.8854, -0.6709, -0.3584,  0.3299,  0.2965,  0.5379,\n",
       "         -0.5088,  0.3298, -0.1205, -0.0239, -0.2322, -0.2459, -0.9517, -0.0673,\n",
       "          0.9998,  0.2067, -0.5883,  0.0504, -0.0339, -0.3300,  0.2355,  0.3027,\n",
       "         -0.1875, -0.7066, -0.4226, -0.8660, -0.9763,  0.6070,  0.1032, -0.2075,\n",
       "          0.9877,  0.1218,  0.0340, -0.3675, -0.3071, -0.0174,  0.4204, -0.6893,\n",
       "          0.9562, -0.1974,  0.3400,  0.6625,  0.5696, -0.2649, -0.5153, -0.0456,\n",
       "         -0.8824,  0.1110, -0.9096,  0.9399, -0.7171,  0.1896,  0.0035, -0.3877,\n",
       "          0.9999, -0.0467,  0.4604, -0.2784,  0.7589, -0.1707, -0.5839, -0.2754,\n",
       "          0.0724,  0.6388, -0.2067,  0.1258, -0.9465, -0.5911, -0.4129, -0.9537,\n",
       "         -0.9850,  0.7316,  0.4983,  0.0250,  0.1555, -0.5645, -0.4847,  0.0141,\n",
       "         -0.0902, -0.9179,  0.7026, -0.1006,  0.2823, -0.1367,  0.3594, -0.6599,\n",
       "          0.8236,  0.7533,  0.1703,  0.0194, -0.6741,  0.7080, -0.6762,  0.5480,\n",
       "         -0.0511,  1.0000, -0.1827, -0.4355,  0.6110,  0.5712, -0.0234,  0.2024,\n",
       "         -0.5580,  0.1153,  0.6107,  0.7043, -0.5625, -0.2175,  0.3401, -0.5677,\n",
       "         -0.5928,  0.7107, -0.0796, -0.0446,  0.0769, -0.0015,  0.9910, -0.0883,\n",
       "          0.0660, -0.2806,  0.0538, -0.1721, -0.3553,  0.9995,  0.2376, -0.2359,\n",
       "         -0.9839,  0.3957, -0.8160,  0.9576,  0.6981, -0.7173,  0.2465,  0.1252,\n",
       "         -0.0404,  0.5898, -0.1297, -0.1221,  0.0315,  0.1343,  0.9305, -0.2919,\n",
       "         -0.9448, -0.4579,  0.2190, -0.9409,  0.4848, -0.3551, -0.0562, -0.1775,\n",
       "          0.4163,  0.5507, -0.1283, -0.9637, -0.1206, -0.0471,  0.9394,  0.0881,\n",
       "         -0.3365, -0.8517, -0.7368, -0.2460,  0.6210, -0.8998,  0.9516, -0.9618,\n",
       "          0.2532,  0.9993,  0.0984, -0.7808,  0.0776, -0.1949,  0.1186,  0.2718,\n",
       "          0.3989, -0.9365, -0.1789, -0.0639,  0.0637, -0.0064,  0.4505,  0.5691,\n",
       "          0.1817, -0.3358, -0.3931,  0.0152,  0.2573,  0.5631, -0.1403,  0.0062,\n",
       "          0.0310, -0.0955, -0.8710, -0.1484, -0.1325, -0.8124,  0.4416, -0.9999,\n",
       "         -0.5333, -0.6895, -0.1619,  0.7838,  0.0990, -0.3341, -0.6451,  0.6117,\n",
       "          0.8774,  0.6595, -0.0439,  0.2568, -0.5637,  0.0699,  0.0162,  0.0890,\n",
       "          0.4264,  0.6540, -0.1030,  1.0000,  0.0241, -0.2865, -0.9101,  0.1396,\n",
       "         -0.0909,  0.9943, -0.7433, -0.9114,  0.1582, -0.2097, -0.7602,  0.1182,\n",
       "         -0.0474, -0.4112,  0.3012,  0.9230,  0.7146, -0.3707,  0.2699, -0.1849,\n",
       "         -0.1691, -0.0321, -0.6506,  0.9768,  0.1486,  0.7736,  0.6659,  0.1920,\n",
       "          0.9405,  0.1137,  0.4147, -0.0019,  0.9995,  0.1504, -0.8840,  0.4456,\n",
       "         -0.9717, -0.1024, -0.9236,  0.1277, -0.0653,  0.7915, -0.1447,  0.9381,\n",
       "          0.6880, -0.0087,  0.2492,  0.7492,  0.2791, -0.8611, -0.9749, -0.9795,\n",
       "          0.0177, -0.3408,  0.0358,  0.1990,  0.0340,  0.2082,  0.2570, -0.9991,\n",
       "          0.8756,  0.3064, -0.5175,  0.9480,  0.0721,  0.1321,  0.0964, -0.9751,\n",
       "         -0.9072, -0.2231, -0.1723,  0.5855,  0.4682,  0.7812,  0.2462, -0.4225,\n",
       "         -0.0503,  0.5749, -0.2812, -0.9864,  0.2740,  0.5653, -0.8743,  0.9290,\n",
       "         -0.7161, -0.1076,  0.7257,  0.4589,  0.8178,  0.6025,  0.2529,  0.1346,\n",
       "          0.3926,  0.8435,  0.8968,  0.9797,  0.5418,  0.6302,  0.5481,  0.2788,\n",
       "          0.5648, -0.9073,  0.0096, -0.1216,  0.0932,  0.1583, -0.1286, -0.8947,\n",
       "          0.5123, -0.0837,  0.3090, -0.3077,  0.2120, -0.2733, -0.1094, -0.5859,\n",
       "         -0.1763,  0.4942,  0.1509,  0.8688,  0.0043,  0.0336, -0.4563, -0.0283,\n",
       "          0.5626, -0.8812,  0.8363,  0.0820,  0.6339, -0.4624, -0.1392,  0.5655,\n",
       "         -0.4461, -0.2398, -0.1569, -0.5732,  0.7829, -0.0880, -0.3896, -0.2442,\n",
       "          0.4708,  0.2097,  0.7415,  0.3880,  0.4442, -0.0108, -0.0647,  0.2190,\n",
       "         -0.1072, -0.9992,  0.2363,  0.5602, -0.3625,  0.2327, -0.5441,  0.1842,\n",
       "         -0.9475, -0.0623, -0.1539, -0.5091, -0.3873, -0.1036,  0.3553,  0.6325,\n",
       "         -0.2442,  0.8046,  0.2448,  0.6912,  0.4344,  0.5361, -0.5846,  0.8455]]), hidden_states=None, past_key_values=None, attentions=None, cross_attentions=None)"
      ]
     },
     "execution_count": null,
     "metadata": {},
     "output_type": "execute_result"
    }
   ],
   "source": [
    "outputs"
   ]
  },
  {
   "cell_type": "code",
   "execution_count": null,
   "metadata": {},
   "outputs": [
    {
     "data": {
      "text/plain": [
       "tensor([[[ 8.9206e-02,  1.3633e-01, -1.4991e-01,  ..., -1.4276e-01,\n",
       "           5.2571e-02,  2.6263e-01],\n",
       "         [ 7.8736e-01,  5.1593e-02, -1.0610e-01,  ...,  1.8474e-01,\n",
       "           4.8132e-01, -3.8749e-02],\n",
       "         [-5.9140e-04, -7.1789e-01,  9.7731e-03,  ...,  1.1675e-01,\n",
       "          -2.2815e-01,  4.9798e-01],\n",
       "         [ 6.1189e-01, -9.1199e-02, -1.2122e-01,  ..., -2.4631e-01,\n",
       "          -2.6575e-01, -1.8711e-01],\n",
       "         [-2.3867e-01,  4.8732e-03, -6.0544e-01,  ...,  1.1373e-01,\n",
       "           2.9739e-01,  2.2494e-01],\n",
       "         [ 9.9134e-01,  1.7768e-01, -2.2830e-01,  ...,  1.7759e-01,\n",
       "          -7.0809e-01, -3.3204e-01]]])"
      ]
     },
     "execution_count": null,
     "metadata": {},
     "output_type": "execute_result"
    }
   ],
   "source": [
    "outputs[0]"
   ]
  },
  {
   "cell_type": "code",
   "execution_count": null,
   "metadata": {},
   "outputs": [
    {
     "data": {
      "text/plain": [
       "torch.Size([1, 6, 768])"
      ]
     },
     "execution_count": null,
     "metadata": {},
     "output_type": "execute_result"
    }
   ],
   "source": [
    "outputs.last_hidden_state.shape"
   ]
  },
  {
   "cell_type": "code",
   "execution_count": null,
   "metadata": {},
   "outputs": [
    {
     "data": {
      "text/plain": [
       "tensor([[[ 8.9206e-02,  1.3633e-01, -1.4991e-01,  ..., -1.4276e-01,\n",
       "           5.2571e-02,  2.6263e-01],\n",
       "         [ 7.8736e-01,  5.1593e-02, -1.0610e-01,  ...,  1.8474e-01,\n",
       "           4.8132e-01, -3.8749e-02],\n",
       "         [-5.9140e-04, -7.1789e-01,  9.7731e-03,  ...,  1.1675e-01,\n",
       "          -2.2815e-01,  4.9798e-01],\n",
       "         [ 6.1189e-01, -9.1199e-02, -1.2122e-01,  ..., -2.4631e-01,\n",
       "          -2.6575e-01, -1.8711e-01],\n",
       "         [-2.3867e-01,  4.8732e-03, -6.0544e-01,  ...,  1.1373e-01,\n",
       "           2.9739e-01,  2.2494e-01],\n",
       "         [ 9.9134e-01,  1.7768e-01, -2.2830e-01,  ...,  1.7759e-01,\n",
       "          -7.0809e-01, -3.3204e-01]]])"
      ]
     },
     "execution_count": null,
     "metadata": {},
     "output_type": "execute_result"
    }
   ],
   "source": [
    "outputs.last_hidden_state"
   ]
  },
  {
   "cell_type": "code",
   "execution_count": null,
   "metadata": {},
   "outputs": [],
   "source": [
    "class ColBERTQueryEncoder:\n",
    "    def __init__(self, model_name: str = \"bert-base-uncased\", max_query_length: int = 32):\n",
    "        self.tokenizer = BertTokenizer.from_pretrained(model_name)\n",
    "        self.model = BertModel.from_pretrained(model_name)\n",
    "        self.max_query_length = 32\n",
    "        \n",
    "        # Add [Q] token to to the tokenizer vocab\n",
    "        self.tokenizer.add_special_tokens({\"additional_special_tokens\": ['[Q]']})\n",
    "        # Resize tokenizer to accomodate new [Q] token\n",
    "        self.model.resize_token_embeddings(len(self.tokenizer))\n",
    "        \n",
    "    def encode_query(self, query):\n",
    "        # tokenize the query \n",
    "        tokens = self.tokenizer.tokenize(query)\n",
    "        # add the classifier token, new query token, and separator tokens to the query\n",
    "        tokens = ['[CLS]','[Q]'] + tokens + ['[SEP]']\n",
    "\n",
    "        # pad the query if it's less than max_query_length\n",
    "        if len(tokens) < self.max_query_length:\n",
    "            tokens += (['[MASK]'] * (self.max_query_length - len(tokens)))\n",
    "\n",
    "        # truncate the query if it's too long \n",
    "        if len(tokens) > self.max_query_length:\n",
    "            tokens = tokens[:self.max_query_length - 1] + \"['SEP']\"\n",
    "\n",
    "        # convert tokens to their numerical token ids \n",
    "        input_ids = self.tokenizer.convert_tokens_to_ids(tokens)\n",
    "\n",
    "        # create an attention mask\n",
    "        attention_mask = [1] * len(input_ids)\n",
    "\n",
    "        # convert to tensors\n",
    "        input_ids = torch.tensor([input_ids])\n",
    "        attention_mask = torch.tensor([attention_mask])\n",
    "\n",
    "        # get BERT embeddings\n",
    "        with torch.no_grad():\n",
    "            outputs = self.model(input_ids, attention_mask=attention_mask)\n",
    "        \n",
    "        return outputs\n",
    "\n",
    "\n",
    "\n",
    "# 7. In encode_query:\n",
    "#    - Tokenize the query\n",
    "#    - Prepend [CLS] and [Q] tokens, append [SEP] token\n",
    "#    - Pad or truncate to max_query_length\n",
    "#    - Convert tokens to input IDs\n",
    "#    - Create attention mask\n",
    "#    - Convert input IDs and attention mask to tensors\n",
    "#    - Get BERT embeddings using the model\n",
    "#    - Extract token embeddings (excluding [CLS] token)\n",
    "#    - Return the embeddings\n",
    "\n",
    "# 8. (Optional) Add example usage code"
   ]
  },
  {
   "cell_type": "code",
   "execution_count": null,
   "metadata": {},
   "outputs": [],
   "source": [
    "colbert = ColBERTQueryEncoder()"
   ]
  },
  {
   "cell_type": "code",
   "execution_count": null,
   "metadata": {},
   "outputs": [],
   "source": [
    "test = colbert.encode_query(\"hello everybody what's up\")"
   ]
  },
  {
   "cell_type": "code",
   "execution_count": null,
   "metadata": {},
   "outputs": [
    {
     "data": {
      "text/plain": [
       "<tsensor.analysis.explain>"
      ]
     },
     "execution_count": null,
     "metadata": {},
     "output_type": "execute_result"
    }
   ],
   "source": [
    "ts.explain()"
   ]
  },
  {
   "cell_type": "code",
   "execution_count": null,
   "metadata": {},
   "outputs": [
    {
     "data": {
      "image/svg+xml": [
       "<svg xmlns:xlink=\"http://www.w3.org/1999/xlink\" xmlns=\"http://www.w3.org/2000/svg\" width=\"804.915pt\" height=\"122.875079pt\" viewBox=\"0 0 804.915 122.875079\" version=\"1.1\">\n",
       " <metadata>\n",
       "  <rdf:RDF xmlns:dc=\"http://purl.org/dc/elements/1.1/\" xmlns:cc=\"http://creativecommons.org/ns#\" xmlns:rdf=\"http://www.w3.org/1999/02/22-rdf-syntax-ns#\">\n",
       "   <cc:Work>\n",
       "    <dc:type rdf:resource=\"http://purl.org/dc/dcmitype/StillImage\"/>\n",
       "    <dc:date>2024-09-29T10:20:31.392151</dc:date>\n",
       "    <dc:format>image/svg+xml</dc:format>\n",
       "    <dc:creator>\n",
       "     <cc:Agent>\n",
       "      <dc:title>Matplotlib v3.9.2, https://matplotlib.org/</dc:title>\n",
       "     </cc:Agent>\n",
       "    </dc:creator>\n",
       "   </cc:Work>\n",
       "  </rdf:RDF>\n",
       " </metadata>\n",
       " <defs>\n",
       "  <style type=\"text/css\">*{stroke-linejoin: round; stroke-linecap: butt}</style>\n",
       " </defs>\n",
       " <g id=\"figure_1\">\n",
       "  <g id=\"patch_1\">\n",
       "   <path d=\"M 0 122.875079  L 804.915 122.875079  L 804.915 0  L 0 0  z \" style=\"fill: #ffffff\"/>\n",
       "  </g>\n",
       "  <g id=\"axes_1\">\n",
       "   <g id=\"patch_2\">\n",
       "    <path d=\"M 344.1465 113.424161  L 471.0915 113.424161  L 471.0915 84.595361  L 344.1465 84.595361  z \" clip-path=\"url(#p5e3edb6893)\" style=\"fill: #a8e1b0; fill-opacity: 0.5; stroke: #808080; stroke-width: 0.7; stroke-linejoin: miter\"/>\n",
       "   </g>\n",
       "   <g id=\"patch_3\">\n",
       "    <path d=\"M 342.4725 115.087361  L 469.4175 115.087361  L 469.4175 86.258561  L 342.4725 86.258561  z \" clip-path=\"url(#p5e3edb6893)\" style=\"fill: #a8e1b0; fill-opacity: 0.5; stroke: #808080; stroke-width: 0.7; stroke-linejoin: miter\"/>\n",
       "   </g>\n",
       "   <g id=\"line2d_1\">\n",
       "    <path d=\"M 3.348 31.144678  L 805.915 31.144678  \" clip-path=\"url(#p5e3edb6893)\" style=\"fill: none; stroke: #c2c2c2; stroke-width: 0.5; stroke-linecap: square\"/>\n",
       "   </g>\n",
       "   <g id=\"text_1\">\n",
       "    <!-- t -->\n",
       "    <g style=\"fill: #444443\" transform=\"translate(6.975 9.947031) scale(0.13 -0.13)\">\n",
       "     <defs>\n",
       "      <path id=\"DejaVuSansMono-74\" d=\"M 1919 4494  L 1919 3500  L 3225 3500  L 3225 3053  L 1919 3053  L 1919 1153  Q 1919 766 2066 612  Q 2213 459 2578 459  L 3225 459  L 3225 0  L 2522 0  Q 1875 0 1609 259  Q 1344 519 1344 1153  L 1344 3053  L 409 3053  L 409 3500  L 1344 3500  L 1344 4494  L 1919 4494  z \" transform=\"scale(0.015625)\"/>\n",
       "     </defs>\n",
       "     <use xlink:href=\"#DejaVuSansMono-74\"/>\n",
       "    </g>\n",
       "   </g>\n",
       "   <g id=\"text_2\">\n",
       "    <!-- e -->\n",
       "    <g style=\"fill: #444443\" transform=\"translate(43.245 9.947031) scale(0.13 -0.13)\">\n",
       "     <defs>\n",
       "      <path id=\"DejaVuSansMono-65\" d=\"M 3475 1894  L 3475 1613  L 984 1613  L 984 1594  Q 984 1022 1282 709  Q 1581 397 2125 397  Q 2400 397 2700 484  Q 3000 572 3341 750  L 3341 178  Q 3013 44 2708 -23  Q 2403 -91 2119 -91  Q 1303 -91 843 398  Q 384 888 384 1747  Q 384 2584 834 3084  Q 1284 3584 2034 3584  Q 2703 3584 3089 3131  Q 3475 2678 3475 1894  z M 2900 2063  Q 2888 2569 2661 2833  Q 2434 3097 2009 3097  Q 1594 3097 1325 2822  Q 1056 2547 1006 2059  L 2900 2063  z \" transform=\"scale(0.015625)\"/>\n",
       "     </defs>\n",
       "     <use xlink:href=\"#DejaVuSansMono-65\"/>\n",
       "    </g>\n",
       "   </g>\n",
       "   <g id=\"text_3\">\n",
       "    <!-- s -->\n",
       "    <g style=\"fill: #444443\" transform=\"translate(79.515 9.947031) scale(0.13 -0.13)\">\n",
       "     <defs>\n",
       "      <path id=\"DejaVuSansMono-73\" d=\"M 3041 3378  L 3041 2816  Q 2794 2959 2544 3031  Q 2294 3103 2034 3103  Q 1644 3103 1451 2976  Q 1259 2850 1259 2591  Q 1259 2356 1403 2240  Q 1547 2125 2119 2016  L 2350 1972  Q 2778 1891 2998 1647  Q 3219 1403 3219 1013  Q 3219 494 2850 201  Q 2481 -91 1825 -91  Q 1566 -91 1281 -36  Q 997 19 666 128  L 666 722  Q 988 556 1281 473  Q 1575 391 1838 391  Q 2219 391 2428 545  Q 2638 700 2638 978  Q 2638 1378 1872 1531  L 1847 1538  L 1631 1581  Q 1134 1678 906 1908  Q 678 2138 678 2534  Q 678 3038 1018 3311  Q 1359 3584 1991 3584  Q 2272 3584 2531 3532  Q 2791 3481 3041 3378  z \" transform=\"scale(0.015625)\"/>\n",
       "     </defs>\n",
       "     <use xlink:href=\"#DejaVuSansMono-73\"/>\n",
       "    </g>\n",
       "   </g>\n",
       "   <g id=\"text_4\">\n",
       "    <!-- t -->\n",
       "    <g style=\"fill: #444443\" transform=\"translate(115.785 9.947031) scale(0.13 -0.13)\">\n",
       "     <use xlink:href=\"#DejaVuSansMono-74\"/>\n",
       "    </g>\n",
       "   </g>\n",
       "   <g id=\"text_5\">\n",
       "    <!-- . -->\n",
       "    <g style=\"fill: #444443\" transform=\"translate(152.055 9.947031) scale(0.13 -0.13)\">\n",
       "     <defs>\n",
       "      <path id=\"DejaVuSansMono-2e\" d=\"M 1528 953  L 2316 953  L 2316 0  L 1528 0  L 1528 953  z \" transform=\"scale(0.015625)\"/>\n",
       "     </defs>\n",
       "     <use xlink:href=\"#DejaVuSansMono-2e\"/>\n",
       "    </g>\n",
       "   </g>\n",
       "   <g id=\"text_6\">\n",
       "    <!-- l -->\n",
       "    <g style=\"fill: #444443\" transform=\"translate(188.325 9.947031) scale(0.13 -0.13)\">\n",
       "     <defs>\n",
       "      <path id=\"DejaVuSansMono-6c\" d=\"M 1997 1269  Q 1997 881 2139 684  Q 2281 488 2559 488  L 3231 488  L 3231 0  L 2503 0  Q 1988 0 1705 331  Q 1422 663 1422 1269  L 1422 4447  L 500 4447  L 500 4897  L 1997 4897  L 1997 1269  z \" transform=\"scale(0.015625)\"/>\n",
       "     </defs>\n",
       "     <use xlink:href=\"#DejaVuSansMono-6c\"/>\n",
       "    </g>\n",
       "   </g>\n",
       "   <g id=\"text_7\">\n",
       "    <!-- a -->\n",
       "    <g style=\"fill: #444443\" transform=\"translate(224.595 9.947031) scale(0.13 -0.13)\">\n",
       "     <defs>\n",
       "      <path id=\"DejaVuSansMono-61\" d=\"M 2194 1759  L 2003 1759  Q 1500 1759 1245 1582  Q 991 1406 991 1056  Q 991 741 1181 566  Q 1372 391 1709 391  Q 2184 391 2456 720  Q 2728 1050 2731 1631  L 2731 1759  L 2194 1759  z M 3309 1997  L 3309 0  L 2731 0  L 2731 519  Q 2547 206 2267 57  Q 1988 -91 1588 -91  Q 1053 -91 734 211  Q 416 513 416 1019  Q 416 1603 808 1906  Q 1200 2209 1959 2209  L 2731 2209  L 2731 2300  Q 2728 2719 2518 2908  Q 2309 3097 1850 3097  Q 1556 3097 1256 3012  Q 956 2928 672 2766  L 672 3341  Q 991 3463 1283 3523  Q 1575 3584 1850 3584  Q 2284 3584 2592 3456  Q 2900 3328 3091 3072  Q 3209 2916 3259 2686  Q 3309 2456 3309 1997  z \" transform=\"scale(0.015625)\"/>\n",
       "     </defs>\n",
       "     <use xlink:href=\"#DejaVuSansMono-61\"/>\n",
       "    </g>\n",
       "   </g>\n",
       "   <g id=\"text_8\">\n",
       "    <!-- s -->\n",
       "    <g style=\"fill: #444443\" transform=\"translate(260.865 9.947031) scale(0.13 -0.13)\">\n",
       "     <use xlink:href=\"#DejaVuSansMono-73\"/>\n",
       "    </g>\n",
       "   </g>\n",
       "   <g id=\"text_9\">\n",
       "    <!-- t -->\n",
       "    <g style=\"fill: #444443\" transform=\"translate(297.135 9.947031) scale(0.13 -0.13)\">\n",
       "     <use xlink:href=\"#DejaVuSansMono-74\"/>\n",
       "    </g>\n",
       "   </g>\n",
       "   <g id=\"text_10\">\n",
       "    <!-- _ -->\n",
       "    <g style=\"fill: #444443\" transform=\"translate(333.405 9.947031) scale(0.13 -0.13)\">\n",
       "     <defs>\n",
       "      <path id=\"DejaVuSansMono-5f\" d=\"M 3853 -1259  L 3853 -1509  L 0 -1509  L 0 -1259  L 3853 -1259  z \" transform=\"scale(0.015625)\"/>\n",
       "     </defs>\n",
       "     <use xlink:href=\"#DejaVuSansMono-5f\"/>\n",
       "    </g>\n",
       "   </g>\n",
       "   <g id=\"text_11\">\n",
       "    <!-- h -->\n",
       "    <g style=\"fill: #444443\" transform=\"translate(369.675 9.947031) scale(0.13 -0.13)\">\n",
       "     <defs>\n",
       "      <path id=\"DejaVuSansMono-68\" d=\"M 3284 2169  L 3284 0  L 2706 0  L 2706 2169  Q 2706 2641 2540 2862  Q 2375 3084 2022 3084  Q 1619 3084 1401 2798  Q 1184 2513 1184 1978  L 1184 0  L 609 0  L 609 4863  L 1184 4863  L 1184 2975  Q 1338 3275 1600 3429  Q 1863 3584 2222 3584  Q 2756 3584 3020 3232  Q 3284 2881 3284 2169  z \" transform=\"scale(0.015625)\"/>\n",
       "     </defs>\n",
       "     <use xlink:href=\"#DejaVuSansMono-68\"/>\n",
       "    </g>\n",
       "   </g>\n",
       "   <g id=\"text_12\">\n",
       "    <!-- i -->\n",
       "    <g style=\"fill: #444443\" transform=\"translate(405.945 9.947031) scale(0.13 -0.13)\">\n",
       "     <defs>\n",
       "      <path id=\"DejaVuSansMono-69\" d=\"M 800 3500  L 2272 3500  L 2272 447  L 3413 447  L 3413 0  L 556 0  L 556 447  L 1697 447  L 1697 3053  L 800 3053  L 800 3500  z M 1697 4863  L 2272 4863  L 2272 4134  L 1697 4134  L 1697 4863  z \" transform=\"scale(0.015625)\"/>\n",
       "     </defs>\n",
       "     <use xlink:href=\"#DejaVuSansMono-69\"/>\n",
       "    </g>\n",
       "   </g>\n",
       "   <g id=\"text_13\">\n",
       "    <!-- d -->\n",
       "    <g style=\"fill: #444443\" transform=\"translate(442.215 9.947031) scale(0.13 -0.13)\">\n",
       "     <defs>\n",
       "      <path id=\"DejaVuSansMono-64\" d=\"M 2681 3053  L 2681 4863  L 3256 4863  L 3256 0  L 2681 0  L 2681 441  Q 2538 181 2298 45  Q 2059 -91 1747 -91  Q 1113 -91 748 401  Q 384 894 384 1759  Q 384 2613 750 3098  Q 1116 3584 1747 3584  Q 2063 3584 2303 3448  Q 2544 3313 2681 3053  z M 991 1747  Q 991 1078 1203 737  Q 1416 397 1831 397  Q 2247 397 2464 740  Q 2681 1084 2681 1747  Q 2681 2413 2464 2755  Q 2247 3097 1831 3097  Q 1416 3097 1203 2756  Q 991 2416 991 1747  z \" transform=\"scale(0.015625)\"/>\n",
       "     </defs>\n",
       "     <use xlink:href=\"#DejaVuSansMono-64\"/>\n",
       "    </g>\n",
       "   </g>\n",
       "   <g id=\"text_14\">\n",
       "    <!-- d -->\n",
       "    <g style=\"fill: #444443\" transform=\"translate(478.485 9.947031) scale(0.13 -0.13)\">\n",
       "     <use xlink:href=\"#DejaVuSansMono-64\"/>\n",
       "    </g>\n",
       "   </g>\n",
       "   <g id=\"text_15\">\n",
       "    <!-- e -->\n",
       "    <g style=\"fill: #444443\" transform=\"translate(514.755 9.947031) scale(0.13 -0.13)\">\n",
       "     <use xlink:href=\"#DejaVuSansMono-65\"/>\n",
       "    </g>\n",
       "   </g>\n",
       "   <g id=\"text_16\">\n",
       "    <!-- n -->\n",
       "    <g style=\"fill: #444443\" transform=\"translate(551.025 9.947031) scale(0.13 -0.13)\">\n",
       "     <defs>\n",
       "      <path id=\"DejaVuSansMono-6e\" d=\"M 3284 2169  L 3284 0  L 2706 0  L 2706 2169  Q 2706 2641 2540 2862  Q 2375 3084 2022 3084  Q 1619 3084 1401 2798  Q 1184 2513 1184 1978  L 1184 0  L 609 0  L 609 3500  L 1184 3500  L 1184 2975  Q 1338 3275 1600 3429  Q 1863 3584 2222 3584  Q 2756 3584 3020 3232  Q 3284 2881 3284 2169  z \" transform=\"scale(0.015625)\"/>\n",
       "     </defs>\n",
       "     <use xlink:href=\"#DejaVuSansMono-6e\"/>\n",
       "    </g>\n",
       "   </g>\n",
       "   <g id=\"text_17\">\n",
       "    <!-- _ -->\n",
       "    <g style=\"fill: #444443\" transform=\"translate(587.295 9.947031) scale(0.13 -0.13)\">\n",
       "     <use xlink:href=\"#DejaVuSansMono-5f\"/>\n",
       "    </g>\n",
       "   </g>\n",
       "   <g id=\"text_18\">\n",
       "    <!-- s -->\n",
       "    <g style=\"fill: #444443\" transform=\"translate(623.565 9.947031) scale(0.13 -0.13)\">\n",
       "     <use xlink:href=\"#DejaVuSansMono-73\"/>\n",
       "    </g>\n",
       "   </g>\n",
       "   <g id=\"text_19\">\n",
       "    <!-- t -->\n",
       "    <g style=\"fill: #444443\" transform=\"translate(659.835 9.947031) scale(0.13 -0.13)\">\n",
       "     <use xlink:href=\"#DejaVuSansMono-74\"/>\n",
       "    </g>\n",
       "   </g>\n",
       "   <g id=\"text_20\">\n",
       "    <!-- a -->\n",
       "    <g style=\"fill: #444443\" transform=\"translate(696.105 9.947031) scale(0.13 -0.13)\">\n",
       "     <use xlink:href=\"#DejaVuSansMono-61\"/>\n",
       "    </g>\n",
       "   </g>\n",
       "   <g id=\"text_21\">\n",
       "    <!-- t -->\n",
       "    <g style=\"fill: #444443\" transform=\"translate(732.375 9.947031) scale(0.13 -0.13)\">\n",
       "     <use xlink:href=\"#DejaVuSansMono-74\"/>\n",
       "    </g>\n",
       "   </g>\n",
       "   <g id=\"text_22\">\n",
       "    <!-- e -->\n",
       "    <g style=\"fill: #444443\" transform=\"translate(768.645 9.947031) scale(0.13 -0.13)\">\n",
       "     <use xlink:href=\"#DejaVuSansMono-65\"/>\n",
       "    </g>\n",
       "   </g>\n",
       "   <g id=\"text_23\">\n",
       "    <!-- 1 -->\n",
       "    <g transform=\"translate(340.68375 103.175383) rotate(-90) scale(0.09 -0.09)\">\n",
       "     <defs>\n",
       "      <path id=\"ArialMT-31\" d=\"M 2384 0  L 1822 0  L 1822 3584  Q 1619 3391 1289 3197  Q 959 3003 697 2906  L 697 3450  Q 1169 3672 1522 3987  Q 1875 4303 2022 4600  L 2384 4600  L 2384 0  z \" transform=\"scale(0.015625)\"/>\n",
       "     </defs>\n",
       "     <use xlink:href=\"#ArialMT-31\"/>\n",
       "    </g>\n",
       "   </g>\n",
       "   <g id=\"text_24\">\n",
       "    <!-- 32 -->\n",
       "    <g transform=\"translate(402.614156 83.486561) scale(0.09 -0.09)\">\n",
       "     <defs>\n",
       "      <path id=\"ArialMT-33\" d=\"M 269 1209  L 831 1284  Q 928 806 1161 595  Q 1394 384 1728 384  Q 2125 384 2398 659  Q 2672 934 2672 1341  Q 2672 1728 2419 1979  Q 2166 2231 1775 2231  Q 1616 2231 1378 2169  L 1441 2663  Q 1497 2656 1531 2656  Q 1891 2656 2178 2843  Q 2466 3031 2466 3422  Q 2466 3731 2256 3934  Q 2047 4138 1716 4138  Q 1388 4138 1169 3931  Q 950 3725 888 3313  L 325 3413  Q 428 3978 793 4289  Q 1159 4600 1703 4600  Q 2078 4600 2393 4439  Q 2709 4278 2876 4000  Q 3044 3722 3044 3409  Q 3044 3113 2884 2869  Q 2725 2625 2413 2481  Q 2819 2388 3044 2092  Q 3269 1797 3269 1353  Q 3269 753 2831 336  Q 2394 -81 1725 -81  Q 1122 -81 723 278  Q 325 638 269 1209  z \" transform=\"scale(0.015625)\"/>\n",
       "      <path id=\"ArialMT-32\" d=\"M 3222 541  L 3222 0  L 194 0  Q 188 203 259 391  Q 375 700 629 1000  Q 884 1300 1366 1694  Q 2113 2306 2375 2664  Q 2638 3022 2638 3341  Q 2638 3675 2398 3904  Q 2159 4134 1775 4134  Q 1369 4134 1125 3890  Q 881 3647 878 3216  L 300 3275  Q 359 3922 746 4261  Q 1134 4600 1788 4600  Q 2447 4600 2831 4234  Q 3216 3869 3216 3328  Q 3216 3053 3103 2787  Q 2991 2522 2730 2228  Q 2469 1934 1863 1422  Q 1356 997 1212 845  Q 1069 694 975 541  L 3222 541  z \" transform=\"scale(0.015625)\"/>\n",
       "     </defs>\n",
       "     <use xlink:href=\"#ArialMT-33\"/>\n",
       "     <use xlink:href=\"#ArialMT-32\" x=\"55.615234\"/>\n",
       "    </g>\n",
       "   </g>\n",
       "   <g id=\"text_25\">\n",
       "    <!-- 768 -->\n",
       "    <g transform=\"translate(465.754245 107.626582) rotate(-45) scale(0.09 -0.09)\">\n",
       "     <defs>\n",
       "      <path id=\"ArialMT-37\" d=\"M 303 3981  L 303 4522  L 3269 4522  L 3269 4084  Q 2831 3619 2401 2847  Q 1972 2075 1738 1259  Q 1569 684 1522 0  L 944 0  Q 953 541 1156 1306  Q 1359 2072 1739 2783  Q 2119 3494 2547 3981  L 303 3981  z \" transform=\"scale(0.015625)\"/>\n",
       "      <path id=\"ArialMT-36\" d=\"M 3184 3459  L 2625 3416  Q 2550 3747 2413 3897  Q 2184 4138 1850 4138  Q 1581 4138 1378 3988  Q 1113 3794 959 3422  Q 806 3050 800 2363  Q 1003 2672 1297 2822  Q 1591 2972 1913 2972  Q 2475 2972 2870 2558  Q 3266 2144 3266 1488  Q 3266 1056 3080 686  Q 2894 316 2569 119  Q 2244 -78 1831 -78  Q 1128 -78 684 439  Q 241 956 241 2144  Q 241 3472 731 4075  Q 1159 4600 1884 4600  Q 2425 4600 2770 4297  Q 3116 3994 3184 3459  z M 888 1484  Q 888 1194 1011 928  Q 1134 663 1356 523  Q 1578 384 1822 384  Q 2178 384 2434 671  Q 2691 959 2691 1453  Q 2691 1928 2437 2201  Q 2184 2475 1800 2475  Q 1419 2475 1153 2201  Q 888 1928 888 1484  z \" transform=\"scale(0.015625)\"/>\n",
       "      <path id=\"ArialMT-38\" d=\"M 1131 2484  Q 781 2613 612 2850  Q 444 3088 444 3419  Q 444 3919 803 4259  Q 1163 4600 1759 4600  Q 2359 4600 2725 4251  Q 3091 3903 3091 3403  Q 3091 3084 2923 2848  Q 2756 2613 2416 2484  Q 2838 2347 3058 2040  Q 3278 1734 3278 1309  Q 3278 722 2862 322  Q 2447 -78 1769 -78  Q 1091 -78 675 323  Q 259 725 259 1325  Q 259 1772 486 2073  Q 713 2375 1131 2484  z M 1019 3438  Q 1019 3113 1228 2906  Q 1438 2700 1772 2700  Q 2097 2700 2305 2904  Q 2513 3109 2513 3406  Q 2513 3716 2298 3927  Q 2084 4138 1766 4138  Q 1444 4138 1231 3931  Q 1019 3725 1019 3438  z M 838 1322  Q 838 1081 952 856  Q 1066 631 1291 507  Q 1516 384 1775 384  Q 2178 384 2440 643  Q 2703 903 2703 1303  Q 2703 1709 2433 1975  Q 2163 2241 1756 2241  Q 1359 2241 1098 1978  Q 838 1716 838 1322  z \" transform=\"scale(0.015625)\"/>\n",
       "     </defs>\n",
       "     <use xlink:href=\"#ArialMT-37\"/>\n",
       "     <use xlink:href=\"#ArialMT-36\" x=\"55.615234\"/>\n",
       "     <use xlink:href=\"#ArialMT-38\" x=\"111.230469\"/>\n",
       "    </g>\n",
       "   </g>\n",
       "   <g id=\"text_26\">\n",
       "    <!-- &lt;${\\mathit{float32}}$&gt; -->\n",
       "    <g transform=\"translate(389.53 121.483829) scale(0.07 -0.07)\">\n",
       "     <defs>\n",
       "      <path id=\"ArialMT-3c\" d=\"M 350 2003  L 350 2528  L 3384 3809  L 3384 3250  L 978 2263  L 3384 1266  L 3384 706  L 350 2003  z \" transform=\"scale(0.015625)\"/>\n",
       "      <path id=\"DejaVuSans-Oblique-66\" d=\"M 3059 4863  L 2969 4384  L 2419 4384  Q 2106 4384 1964 4261  Q 1822 4138 1753 3809  L 1691 3500  L 2638 3500  L 2553 3053  L 1606 3053  L 1013 0  L 434 0  L 1031 3053  L 481 3053  L 563 3500  L 1113 3500  L 1159 3744  Q 1278 4363 1576 4613  Q 1875 4863 2516 4863  L 3059 4863  z \" transform=\"scale(0.015625)\"/>\n",
       "      <path id=\"DejaVuSans-Oblique-6c\" d=\"M 1172 4863  L 1747 4863  L 800 0  L 225 0  L 1172 4863  z \" transform=\"scale(0.015625)\"/>\n",
       "      <path id=\"DejaVuSans-Oblique-6f\" d=\"M 1625 -91  Q 1009 -91 651 289  Q 294 669 294 1325  Q 294 1706 417 2101  Q 541 2497 738 2766  Q 1047 3184 1428 3384  Q 1809 3584 2291 3584  Q 2888 3584 3255 3212  Q 3622 2841 3622 2241  Q 3622 1825 3500 1412  Q 3378 1000 3181 728  Q 2875 309 2494 109  Q 2113 -91 1625 -91  z M 891 1344  Q 891 869 1089 633  Q 1288 397 1691 397  Q 2269 397 2648 901  Q 3028 1406 3028 2181  Q 3028 2634 2825 2865  Q 2622 3097 2228 3097  Q 1903 3097 1650 2945  Q 1397 2794 1197 2484  Q 1050 2253 970 1956  Q 891 1659 891 1344  z \" transform=\"scale(0.015625)\"/>\n",
       "      <path id=\"DejaVuSans-Oblique-61\" d=\"M 3438 1997  L 3047 0  L 2472 0  L 2578 531  Q 2325 219 2001 64  Q 1678 -91 1281 -91  Q 834 -91 548 182  Q 263 456 263 884  Q 263 1497 752 1853  Q 1241 2209 2100 2209  L 2900 2209  L 2931 2363  Q 2938 2388 2941 2417  Q 2944 2447 2944 2509  Q 2944 2788 2717 2942  Q 2491 3097 2081 3097  Q 1800 3097 1504 3025  Q 1209 2953 897 2809  L 997 3341  Q 1322 3463 1633 3523  Q 1944 3584 2234 3584  Q 2853 3584 3176 3315  Q 3500 3047 3500 2534  Q 3500 2431 3484 2292  Q 3469 2153 3438 1997  z M 2816 1759  L 2241 1759  Q 1534 1759 1195 1570  Q 856 1381 856 984  Q 856 709 1029 553  Q 1203 397 1509 397  Q 1978 397 2328 733  Q 2678 1069 2791 1631  L 2816 1759  z \" transform=\"scale(0.015625)\"/>\n",
       "      <path id=\"DejaVuSans-Oblique-74\" d=\"M 2706 3500  L 2619 3053  L 1472 3053  L 1100 1153  Q 1081 1047 1072 975  Q 1063 903 1063 863  Q 1063 663 1183 572  Q 1303 481 1569 481  L 2150 481  L 2053 0  L 1503 0  Q 991 0 739 200  Q 488 400 488 806  Q 488 878 497 964  Q 506 1050 525 1153  L 897 3053  L 409 3053  L 500 3500  L 978 3500  L 1172 4494  L 1747 4494  L 1556 3500  L 2706 3500  z \" transform=\"scale(0.015625)\"/>\n",
       "      <path id=\"DejaVuSans-33\" d=\"M 2597 2516  Q 3050 2419 3304 2112  Q 3559 1806 3559 1356  Q 3559 666 3084 287  Q 2609 -91 1734 -91  Q 1441 -91 1130 -33  Q 819 25 488 141  L 488 750  Q 750 597 1062 519  Q 1375 441 1716 441  Q 2309 441 2620 675  Q 2931 909 2931 1356  Q 2931 1769 2642 2001  Q 2353 2234 1838 2234  L 1294 2234  L 1294 2753  L 1863 2753  Q 2328 2753 2575 2939  Q 2822 3125 2822 3475  Q 2822 3834 2567 4026  Q 2313 4219 1838 4219  Q 1578 4219 1281 4162  Q 984 4106 628 3988  L 628 4550  Q 988 4650 1302 4700  Q 1616 4750 1894 4750  Q 2613 4750 3031 4423  Q 3450 4097 3450 3541  Q 3450 3153 3228 2886  Q 3006 2619 2597 2516  z \" transform=\"scale(0.015625)\"/>\n",
       "      <path id=\"DejaVuSans-32\" d=\"M 1228 531  L 3431 531  L 3431 0  L 469 0  L 469 531  Q 828 903 1448 1529  Q 2069 2156 2228 2338  Q 2531 2678 2651 2914  Q 2772 3150 2772 3378  Q 2772 3750 2511 3984  Q 2250 4219 1831 4219  Q 1534 4219 1204 4116  Q 875 4013 500 3803  L 500 4441  Q 881 4594 1212 4672  Q 1544 4750 1819 4750  Q 2544 4750 2975 4387  Q 3406 4025 3406 3419  Q 3406 3131 3298 2873  Q 3191 2616 2906 2266  Q 2828 2175 2409 1742  Q 1991 1309 1228 531  z \" transform=\"scale(0.015625)\"/>\n",
       "      <path id=\"ArialMT-3e\" d=\"M 3384 2003  L 350 706  L 350 1266  L 2753 2263  L 350 3250  L 350 3809  L 3384 2528  L 3384 2003  z \" transform=\"scale(0.015625)\"/>\n",
       "     </defs>\n",
       "     <use xlink:href=\"#ArialMT-3c\" transform=\"translate(0 0.015625)\"/>\n",
       "     <use xlink:href=\"#DejaVuSans-Oblique-66\" transform=\"translate(58.398438 0.015625)\"/>\n",
       "     <use xlink:href=\"#DejaVuSans-Oblique-6c\" transform=\"translate(93.603516 0.015625)\"/>\n",
       "     <use xlink:href=\"#DejaVuSans-Oblique-6f\" transform=\"translate(121.386719 0.015625)\"/>\n",
       "     <use xlink:href=\"#DejaVuSans-Oblique-61\" transform=\"translate(182.568359 0.015625)\"/>\n",
       "     <use xlink:href=\"#DejaVuSans-Oblique-74\" transform=\"translate(243.847656 0.015625)\"/>\n",
       "     <use xlink:href=\"#DejaVuSans-33\" transform=\"translate(283.056641 0.015625)\"/>\n",
       "     <use xlink:href=\"#DejaVuSans-32\" transform=\"translate(346.679688 0.015625)\"/>\n",
       "     <use xlink:href=\"#ArialMT-3e\" transform=\"translate(410.302734 0.015625)\"/>\n",
       "    </g>\n",
       "   </g>\n",
       "  </g>\n",
       " </g>\n",
       " <defs>\n",
       "  <clipPath id=\"p5e3edb6893\">\n",
       "   <rect x=\"0\" y=\"4.901991\" width=\"804.915\" height=\"111.016969\"/>\n",
       "  </clipPath>\n",
       " </defs>\n",
       "</svg>"
      ],
      "text/plain": [
       "<IPython.core.display.SVG object>"
      ]
     },
     "metadata": {},
     "output_type": "display_data"
    }
   ],
   "source": [
    "with ts.explain(char_sep_scale=10):\n",
    "    test.last_hidden_state"
   ]
  },
  {
   "cell_type": "code",
   "execution_count": null,
   "metadata": {},
   "outputs": [
    {
     "data": {
      "text/plain": [
       "torch.Size([1, 32, 768])"
      ]
     },
     "execution_count": null,
     "metadata": {},
     "output_type": "execute_result"
    }
   ],
   "source": [
    "test.last_hidden_state.shape"
   ]
  },
  {
   "cell_type": "code",
   "execution_count": null,
   "metadata": {},
   "outputs": [],
   "source": []
  }
 ],
 "metadata": {
  "kernelspec": {
   "display_name": "python3",
   "language": "python",
   "name": "python3"
  }
 },
 "nbformat": 4,
 "nbformat_minor": 2
}
